{
  "cells": [
    {
      "cell_type": "markdown",
      "metadata": {
        "id": "758pTEotTJYc"
      },
      "source": [
        "# Introduction / Setup\n",
        "\n",
        "This notebook shows how to use LangChain's [`LLMGraphTransformer`](https://python.langchain.com/docs/use_cases/graph/constructing/#llm-graph-transformer) to extract knowledge triples and store them in [DataStax AstraDB](https://www.datastax.com/products/datastax-astra)."
      ]
    },
    {
      "cell_type": "code",
      "execution_count": 2,
      "metadata": {
        "id": "3CBuQnrOTJYe"
      },
      "outputs": [
        {
          "name": "stdout",
          "output_type": "stream",
          "text": [
            "The autoreload extension is already loaded. To reload it, use:\n",
            "  %reload_ext autoreload\n"
          ]
        }
      ],
      "source": [
        "%load_ext autoreload\n",
        "%autoreload 2\n"
      ]
    },
    {
      "cell_type": "code",
      "execution_count": 3,
      "metadata": {
        "colab": {
          "base_uri": "https://localhost:8080/"
        },
        "id": "B4itNrqvTJYe",
        "outputId": "4593e5c7-a9e7-4b8a-e528-02a996d6033b"
      },
      "outputs": [
        {
          "name": "stdout",
          "output_type": "stream",
          "text": [
            "Note: you may need to restart the kernel to use updated packages.\n"
          ]
        }
      ],
      "source": [
        "%pip install -q ragstack-ai-knowledge-graph python-dotenv\n"
      ]
    },
    {
      "cell_type": "markdown",
      "metadata": {
        "id": "bipYkhr0TJYe"
      },
      "source": [
        "## Environment\n"
      ]
    },
    {
      "cell_type": "code",
      "execution_count": 4,
      "metadata": {
        "id": "iG-bBAu6TJYf"
      },
      "outputs": [
        {
          "data": {
            "text/plain": [
              "True"
            ]
          },
          "execution_count": 4,
          "metadata": {},
          "output_type": "execute_result"
        }
      ],
      "source": [
        "import os\n",
        "from dotenv import load_dotenv, dotenv_values \n",
        "load_dotenv() \n"
      ]
    },
    {
      "cell_type": "markdown",
      "metadata": {
        "id": "qzSk19CrTJYf"
      },
      "source": [
        "## Initialize Astra DB / Cassandra"
      ]
    },
    {
      "cell_type": "code",
      "execution_count": 5,
      "metadata": {
        "id": "CWUb9OxCTJYf"
      },
      "outputs": [],
      "source": [
        "# Initialize cassandra connection from environment variables).\n",
        "import cassio\n",
        "\n",
        "cassio.init(auto=True)\n"
      ]
    },
    {
      "cell_type": "markdown",
      "metadata": {
        "id": "jyoB4-VpTJYg"
      },
      "source": [
        "## Create Graph Store"
      ]
    },
    {
      "cell_type": "code",
      "execution_count": 8,
      "metadata": {
        "id": "uZVzei54TJYg"
      },
      "outputs": [],
      "source": [
        "# Create graph store.\n",
        "from ragstack_knowledge_graph.cassandra_graph_store import CassandraGraphStore\n",
        "\n",
        "graph_store = CassandraGraphStore()\n"
      ]
    },
    {
      "cell_type": "markdown",
      "metadata": {
        "id": "-USWQ8C0TJYg"
      },
      "source": [
        "# Extracting Knowledge Graph"
      ]
    },
    {
      "cell_type": "code",
      "execution_count": 9,
      "metadata": {
        "id": "BEK7JPEDTJYg"
      },
      "outputs": [],
      "source": [
        "from langchain_experimental.graph_transformers import LLMGraphTransformer\n",
        "from langchain_openai import ChatOpenAI\n",
        "\n",
        "# Prompt used by LLMGraphTransformer is tuned for Gpt4.\n",
        "llm = ChatOpenAI(temperature=0, model_name=\"gpt-4\")\n",
        "\n",
        "llm_transformer = LLMGraphTransformer(llm=llm)\n"
      ]
    },
    {
      "cell_type": "code",
      "execution_count": 10,
      "metadata": {
        "id": "zc7zgc34TJYg",
        "outputId": "d98f6c78-9375-4e2a-bd85-e7b8072de613"
      },
      "outputs": [
        {
          "name": "stdout",
          "output_type": "stream",
          "text": [
            "Nodes:[Node(id='Marie Curie', type='Person'), Node(id='Pierre Curie', type='Person'), Node(id='Nobel Prize', type='Award'), Node(id='University Of Paris', type='Organization'), Node(id='Polish', type='Nationality'), Node(id='French', type='Nationality'), Node(id='Physicist', type='Profession'), Node(id='Chemist', type='Profession'), Node(id='Radioactivity', type='Scientific concept'), Node(id='Professor', type='Profession')]\n",
            "Relationships:[Relationship(source=Node(id='Marie Curie', type='Person'), target=Node(id='Polish', type='Nationality'), type='HAS_NATIONALITY'), Relationship(source=Node(id='Marie Curie', type='Person'), target=Node(id='French', type='Nationality'), type='HAS_NATIONALITY'), Relationship(source=Node(id='Marie Curie', type='Person'), target=Node(id='Physicist', type='Profession'), type='HAS_PROFESSION'), Relationship(source=Node(id='Marie Curie', type='Person'), target=Node(id='Chemist', type='Profession'), type='HAS_PROFESSION'), Relationship(source=Node(id='Marie Curie', type='Person'), target=Node(id='Radioactivity', type='Scientific concept'), type='RESEARCHED'), Relationship(source=Node(id='Marie Curie', type='Person'), target=Node(id='Nobel Prize', type='Award'), type='WON'), Relationship(source=Node(id='Pierre Curie', type='Person'), target=Node(id='Nobel Prize', type='Award'), type='WON'), Relationship(source=Node(id='Marie Curie', type='Person'), target=Node(id='University Of Paris', type='Organization'), type='WORKED_AT'), Relationship(source=Node(id='Marie Curie', type='Person'), target=Node(id='Professor', type='Profession'), type='HAS_PROFESSION')]\n"
          ]
        }
      ],
      "source": [
        "from langchain_core.documents import Document\n",
        "\n",
        "text = \"\"\"\n",
        "Marie Curie, was a Polish and naturalised-French physicist and chemist who conducted pioneering research on radioactivity.\n",
        "She was the first woman to win a Nobel Prize, the first person to win a Nobel Prize twice, and the only person to win a Nobel Prize in two scientific fields.\n",
        "Her husband, Pierre Curie, was a co-winner of her first Nobel Prize, making them the first-ever married couple to win the Nobel Prize and launching the Curie family legacy of five Nobel Prizes.\n",
        "She was, in 1906, the first woman to become a professor at the University of Paris.\n",
        "\"\"\"  # noqa: E501\n",
        "documents = [Document(page_content=text)]\n",
        "graph_documents = llm_transformer.convert_to_graph_documents(documents)\n",
        "print(f\"Nodes:{graph_documents[0].nodes}\")\n",
        "print(f\"Relationships:{graph_documents[0].relationships}\")\n"
      ]
    },
    {
      "cell_type": "code",
      "execution_count": 18,
      "metadata": {
        "id": "a8rVATwvTJYg",
        "outputId": "fbdc9d20-cc02-4208-bf99-bebe8ceea7bc"
      },
      "outputs": [
        {
          "data": {
            "image/svg+xml": [
              "<?xml version=\"1.0\" encoding=\"UTF-8\" standalone=\"no\"?>\n",
              "<!DOCTYPE svg PUBLIC \"-//W3C//DTD SVG 1.1//EN\"\n",
              " \"http://www.w3.org/Graphics/SVG/1.1/DTD/svg11.dtd\">\n",
              "<!-- Generated by graphviz version 12.0.0 (20240704.0754)\n",
              " -->\n",
              "<!-- Pages: 1 -->\n",
              "<svg width=\"1756pt\" height=\"133pt\"\n",
              " viewBox=\"0.00 0.00 1755.63 132.50\" xmlns=\"http://www.w3.org/2000/svg\" xmlns:xlink=\"http://www.w3.org/1999/xlink\">\n",
              "<g id=\"graph0\" class=\"graph\" transform=\"scale(1 1) rotate(0) translate(4 128.5)\">\n",
              "<polygon fill=\"white\" stroke=\"none\" points=\"-4,4 -4,-128.5 1751.63,-128.5 1751.63,4 -4,4\"/>\n",
              "<!-- 0 -->\n",
              "<g id=\"node1\" class=\"node\">\n",
              "<title>0</title>\n",
              "<ellipse fill=\"none\" stroke=\"black\" cx=\"866.89\" cy=\"-106.5\" rx=\"90.25\" ry=\"18\"/>\n",
              "<text text-anchor=\"middle\" x=\"866.89\" y=\"-101.45\" font-family=\"Times,serif\" font-size=\"14.00\">Marie Curie [Person]</text>\n",
              "</g>\n",
              "<!-- 2 -->\n",
              "<g id=\"node3\" class=\"node\">\n",
              "<title>2</title>\n",
              "<ellipse fill=\"none\" stroke=\"black\" cx=\"1657.89\" cy=\"-18\" rx=\"88.71\" ry=\"18\"/>\n",
              "<text text-anchor=\"middle\" x=\"1657.89\" y=\"-12.95\" font-family=\"Times,serif\" font-size=\"14.00\">Nobel Prize [Award]</text>\n",
              "</g>\n",
              "<!-- 0&#45;&gt;2 -->\n",
              "<g id=\"edge6\" class=\"edge\">\n",
              "<title>0&#45;&gt;2</title>\n",
              "<path fill=\"none\" stroke=\"black\" d=\"M956.55,-103.99C1066.45,-101.18 1258.15,-93.19 1420.89,-70.5 1480.16,-62.24 1546.66,-47.28 1594.09,-35.6\"/>\n",
              "<polygon fill=\"black\" stroke=\"black\" points=\"1594.79,-39.04 1603.65,-33.23 1593.11,-32.24 1594.79,-39.04\"/>\n",
              "<text text-anchor=\"middle\" x=\"1528.39\" y=\"-57.2\" font-family=\"Times,serif\" font-size=\"14.00\">WON</text>\n",
              "</g>\n",
              "<!-- 3 -->\n",
              "<g id=\"node4\" class=\"node\">\n",
              "<title>3</title>\n",
              "<ellipse fill=\"none\" stroke=\"black\" cx=\"139.89\" cy=\"-18\" rx=\"139.89\" ry=\"18\"/>\n",
              "<text text-anchor=\"middle\" x=\"139.89\" y=\"-12.95\" font-family=\"Times,serif\" font-size=\"14.00\">University Of Paris [Organization]</text>\n",
              "</g>\n",
              "<!-- 0&#45;&gt;3 -->\n",
              "<g id=\"edge8\" class=\"edge\">\n",
              "<title>0&#45;&gt;3</title>\n",
              "<path fill=\"none\" stroke=\"black\" d=\"M777.82,-103.09C678.71,-99.5 514.04,-90.84 373.64,-70.5 318.36,-62.49 256.69,-48.7 210.58,-37.4\"/>\n",
              "<polygon fill=\"black\" stroke=\"black\" points=\"211.52,-34.02 200.97,-35.02 209.84,-40.82 211.52,-34.02\"/>\n",
              "<text text-anchor=\"middle\" x=\"415.52\" y=\"-57.2\" font-family=\"Times,serif\" font-size=\"14.00\">WORKED_AT</text>\n",
              "</g>\n",
              "<!-- 4 -->\n",
              "<g id=\"node5\" class=\"node\">\n",
              "<title>4</title>\n",
              "<ellipse fill=\"none\" stroke=\"black\" cx=\"381.89\" cy=\"-18\" rx=\"84.11\" ry=\"18\"/>\n",
              "<text text-anchor=\"middle\" x=\"381.89\" y=\"-12.95\" font-family=\"Times,serif\" font-size=\"14.00\">Polish [Nationality]</text>\n",
              "</g>\n",
              "<!-- 0&#45;&gt;4 -->\n",
              "<g id=\"edge1\" class=\"edge\">\n",
              "<title>0&#45;&gt;4</title>\n",
              "<path fill=\"none\" stroke=\"black\" d=\"M777.35,-103.61C704.76,-100.42 600.28,-92.09 511.39,-70.5 481.7,-63.29 449.78,-50.65 425.06,-39.71\"/>\n",
              "<polygon fill=\"black\" stroke=\"black\" points=\"426.53,-36.53 415.97,-35.6 423.65,-42.91 426.53,-36.53\"/>\n",
              "<text text-anchor=\"middle\" x=\"574.14\" y=\"-57.2\" font-family=\"Times,serif\" font-size=\"14.00\">HAS_NATIONALITY</text>\n",
              "</g>\n",
              "<!-- 5 -->\n",
              "<g id=\"node6\" class=\"node\">\n",
              "<title>5</title>\n",
              "<ellipse fill=\"none\" stroke=\"black\" cx=\"570.89\" cy=\"-18\" rx=\"86.67\" ry=\"18\"/>\n",
              "<text text-anchor=\"middle\" x=\"570.89\" y=\"-12.95\" font-family=\"Times,serif\" font-size=\"14.00\">French [Nationality]</text>\n",
              "</g>\n",
              "<!-- 0&#45;&gt;5 -->\n",
              "<g id=\"edge2\" class=\"edge\">\n",
              "<title>0&#45;&gt;5</title>\n",
              "<path fill=\"none\" stroke=\"black\" d=\"M792.33,-96.11C757.49,-90.59 715.77,-82.31 679.39,-70.5 655.58,-62.77 630.24,-50.96 610.04,-40.6\"/>\n",
              "<polygon fill=\"black\" stroke=\"black\" points=\"611.8,-37.58 601.32,-36.05 608.56,-43.78 611.8,-37.58\"/>\n",
              "<text text-anchor=\"middle\" x=\"741.14\" y=\"-57.2\" font-family=\"Times,serif\" font-size=\"14.00\">HAS_NATIONALITY</text>\n",
              "</g>\n",
              "<!-- 6 -->\n",
              "<g id=\"node7\" class=\"node\">\n",
              "<title>6</title>\n",
              "<ellipse fill=\"none\" stroke=\"black\" cx=\"766.89\" cy=\"-18\" rx=\"91.78\" ry=\"18\"/>\n",
              "<text text-anchor=\"middle\" x=\"766.89\" y=\"-12.95\" font-family=\"Times,serif\" font-size=\"14.00\">Physicist [Profession]</text>\n",
              "</g>\n",
              "<!-- 0&#45;&gt;6 -->\n",
              "<g id=\"edge3\" class=\"edge\">\n",
              "<title>0&#45;&gt;6</title>\n",
              "<path fill=\"none\" stroke=\"black\" d=\"M847.61,-88.82C832.63,-75.86 811.64,-57.7 794.82,-43.16\"/>\n",
              "<polygon fill=\"black\" stroke=\"black\" points=\"797.45,-40.81 787.6,-36.91 792.88,-46.1 797.45,-40.81\"/>\n",
              "<text text-anchor=\"middle\" x=\"882.27\" y=\"-57.2\" font-family=\"Times,serif\" font-size=\"14.00\">HAS_PROFESSION</text>\n",
              "</g>\n",
              "<!-- 7 -->\n",
              "<g id=\"node8\" class=\"node\">\n",
              "<title>7</title>\n",
              "<ellipse fill=\"none\" stroke=\"black\" cx=\"966.89\" cy=\"-18\" rx=\"89.74\" ry=\"18\"/>\n",
              "<text text-anchor=\"middle\" x=\"966.89\" y=\"-12.95\" font-family=\"Times,serif\" font-size=\"14.00\">Chemist [Profession]</text>\n",
              "</g>\n",
              "<!-- 0&#45;&gt;7 -->\n",
              "<g id=\"edge4\" class=\"edge\">\n",
              "<title>0&#45;&gt;7</title>\n",
              "<path fill=\"none\" stroke=\"black\" d=\"M913.49,-90.81C924.46,-85.7 935.41,-79.04 943.89,-70.5 950.42,-63.93 955.26,-55.19 958.78,-46.77\"/>\n",
              "<polygon fill=\"black\" stroke=\"black\" points=\"962.01,-48.13 962.14,-37.53 955.43,-45.73 962.01,-48.13\"/>\n",
              "<text text-anchor=\"middle\" x=\"1012.27\" y=\"-57.2\" font-family=\"Times,serif\" font-size=\"14.00\">HAS_PROFESSION</text>\n",
              "</g>\n",
              "<!-- 8 -->\n",
              "<g id=\"node9\" class=\"node\">\n",
              "<title>8</title>\n",
              "<ellipse fill=\"none\" stroke=\"black\" cx=\"1210.89\" cy=\"-18\" rx=\"135.8\" ry=\"18\"/>\n",
              "<text text-anchor=\"middle\" x=\"1210.89\" y=\"-12.95\" font-family=\"Times,serif\" font-size=\"14.00\">Radioactivity [Scientific concept]</text>\n",
              "</g>\n",
              "<!-- 0&#45;&gt;8 -->\n",
              "<g id=\"edge5\" class=\"edge\">\n",
              "<title>0&#45;&gt;8</title>\n",
              "<path fill=\"none\" stroke=\"black\" d=\"M942.38,-96.29C981.94,-90.58 1030.96,-82.08 1073.89,-70.5 1103.73,-62.45 1136.14,-50.42 1161.94,-40.02\"/>\n",
              "<polygon fill=\"black\" stroke=\"black\" points=\"1163.24,-43.27 1171.17,-36.25 1160.59,-36.79 1163.24,-43.27\"/>\n",
              "<text text-anchor=\"middle\" x=\"1167.14\" y=\"-57.2\" font-family=\"Times,serif\" font-size=\"14.00\">RESEARCHED</text>\n",
              "</g>\n",
              "<!-- 9 -->\n",
              "<g id=\"node10\" class=\"node\">\n",
              "<title>9</title>\n",
              "<ellipse fill=\"none\" stroke=\"black\" cx=\"1457.89\" cy=\"-18\" rx=\"93.32\" ry=\"18\"/>\n",
              "<text text-anchor=\"middle\" x=\"1457.89\" y=\"-12.95\" font-family=\"Times,serif\" font-size=\"14.00\">Professor [Profession]</text>\n",
              "</g>\n",
              "<!-- 0&#45;&gt;9 -->\n",
              "<g id=\"edge9\" class=\"edge\">\n",
              "<title>0&#45;&gt;9</title>\n",
              "<path fill=\"none\" stroke=\"black\" d=\"M951.14,-99.66C1022.03,-94.12 1125.95,-84.54 1215.89,-70.5 1275.55,-61.19 1342.64,-46.58 1391.03,-35.29\"/>\n",
              "<polygon fill=\"black\" stroke=\"black\" points=\"1391.58,-38.76 1400.51,-33.07 1389.98,-31.95 1391.58,-38.76\"/>\n",
              "<text text-anchor=\"middle\" x=\"1359.27\" y=\"-57.2\" font-family=\"Times,serif\" font-size=\"14.00\">HAS_PROFESSION</text>\n",
              "</g>\n",
              "<!-- 1 -->\n",
              "<g id=\"node2\" class=\"node\">\n",
              "<title>1</title>\n",
              "<ellipse fill=\"none\" stroke=\"black\" cx=\"1657.89\" cy=\"-106.5\" rx=\"89.74\" ry=\"18\"/>\n",
              "<text text-anchor=\"middle\" x=\"1657.89\" y=\"-101.45\" font-family=\"Times,serif\" font-size=\"14.00\">Pierre Curie [Person]</text>\n",
              "</g>\n",
              "<!-- 1&#45;&gt;2 -->\n",
              "<g id=\"edge7\" class=\"edge\">\n",
              "<title>1&#45;&gt;2</title>\n",
              "<path fill=\"none\" stroke=\"black\" d=\"M1657.89,-88.41C1657.89,-76.76 1657.89,-61.05 1657.89,-47.52\"/>\n",
              "<polygon fill=\"black\" stroke=\"black\" points=\"1661.39,-47.86 1657.89,-37.86 1654.39,-47.86 1661.39,-47.86\"/>\n",
              "<text text-anchor=\"middle\" x=\"1674.39\" y=\"-57.2\" font-family=\"Times,serif\" font-size=\"14.00\">WON</text>\n",
              "</g>\n",
              "</g>\n",
              "</svg>\n"
            ],
            "text/plain": [
              "<graphviz.graphs.Digraph at 0x1379f9450>"
            ]
          },
          "execution_count": 18,
          "metadata": {},
          "output_type": "execute_result"
        }
      ],
      "source": [
        "# Render the extracted graph to GraphViz.\n",
        "from ragstack_knowledge_graph.render import render_graph_documents\n",
        "\n",
        "render_graph_documents(graph_documents)\n"
      ]
    },
    {
      "cell_type": "code",
      "execution_count": 12,
      "metadata": {
        "id": "rK0gncqGTJYg"
      },
      "outputs": [],
      "source": [
        "# Save the extracted graph documents to the AstraDB / Cassandra Graph Store.\n",
        "graph_store.add_graph_documents(graph_documents)\n"
      ]
    },
    {
      "cell_type": "markdown",
      "metadata": {
        "id": "PXwoqqu7TJYg"
      },
      "source": [
        "### Optional: Predefine entities / relationships\n",
        "\n",
        "The below shows how to configure the `LLMGraphTransformer` with specific kinds of nodes and relationships it is allowed to extract.\n",
        "This is useful for constraining what will be extracted.\n",
        "\n",
        "```python\n",
        "llm_transformer_filtered = LLMGraphTransformer(\n",
        "    llm=llm,\n",
        "    allowed_nodes=[\"Person\", \"Country\", \"Organization\"],\n",
        "    allowed_relationships=[\"NATIONALITY\", \"LOCATED_IN\", \"WORKED_AT\", \"SPOUSE\"],\n",
        ")\n",
        "graph_documents_filtered = llm_transformer_filtered.convert_to_graph_documents(\n",
        "    documents\n",
        ")\n",
        "print(f\"Nodes:{graph_documents_filtered[0].nodes}\")\n",
        "print(f\"Relationships:{graph_documents_filtered[0].relationships}\")\n",
        "```"
      ]
    },
    {
      "cell_type": "markdown",
      "metadata": {
        "id": "so032KNrTJYg"
      },
      "source": [
        "# Querying"
      ]
    },
    {
      "cell_type": "markdown",
      "metadata": {
        "id": "ICnsOn9mTJYg"
      },
      "source": [
        "We can query the `GraphStore` directly. The `as_runnable` method takes some configuration for how to extract the subgraph and returns a LangChain `Runnable` which can be invoked on a node or sequence of nodes to traverse from those starting points."
      ]
    },
    {
      "cell_type": "code",
      "execution_count": 13,
      "metadata": {
        "id": "Co9gZa2VTJYg",
        "outputId": "d50efeff-88d0-4b57-e089-d5ac12026b07"
      },
      "outputs": [
        {
          "data": {
            "text/plain": [
              "{Marie Curie (Person) -> Chemist (Profession): HAS_PROFESSION,\n",
              " Marie Curie (Person) -> French (Nationality): HAS_NATIONALITY,\n",
              " Marie Curie (Person) -> Nobel Prize (Award): WON,\n",
              " Marie Curie (Person) -> Physicist (Profession): HAS_PROFESSION,\n",
              " Marie Curie (Person) -> Polish (Nationality): HAS_NATIONALITY,\n",
              " Marie Curie (Person) -> Professor (Profession): HAS_PROFESSION,\n",
              " Marie Curie (Person) -> Radioactivity (Scientific concept): RESEARCHED,\n",
              " Marie Curie (Person) -> University Of Paris (Organization): WORKED_AT}"
            ]
          },
          "execution_count": 13,
          "metadata": {},
          "output_type": "execute_result"
        }
      ],
      "source": [
        "from ragstack_knowledge_graph.traverse import Node\n",
        "\n",
        "graph_store.as_runnable(steps=2).invoke(Node(\"Marie Curie\", \"Person\"))\n"
      ]
    },
    {
      "cell_type": "markdown",
      "metadata": {
        "id": "_5ThzBsETJYg"
      },
      "source": [
        "For getting started, the library also provides a `Runnable` for extracting the starting entities from a question."
      ]
    },
    {
      "cell_type": "code",
      "execution_count": 14,
      "metadata": {
        "id": "yDNjtvGRTJYg",
        "outputId": "b1bdd931-b27e-4db3-a48b-2d099e30d280"
      },
      "outputs": [
        {
          "data": {
            "text/plain": [
              "[Marie Curie (Person)]"
            ]
          },
          "execution_count": 14,
          "metadata": {},
          "output_type": "execute_result"
        }
      ],
      "source": [
        "# Example showing extracted entities (nodes)\n",
        "from ragstack_knowledge_graph import extract_entities\n",
        "\n",
        "extract_entities(llm).invoke({\"question\": \"Who is Marie Curie?\"})\n"
      ]
    },
    {
      "cell_type": "markdown",
      "metadata": {
        "id": "t8_GCJQFTJYh"
      },
      "source": [
        "## Query Chain\n",
        "\n",
        "We'll create a chain which does the following:\n",
        "\n",
        "1. Use the entity extraction `Runnable` from the library in order to determine the starting points.\n",
        "2. Retrieve the sub-knowledge graphs starting from those nodes.\n",
        "3. Create a context containing those knowledge triples.\n",
        "4. Apply the LLM to answer the question given the context."
      ]
    },
    {
      "cell_type": "code",
      "execution_count": 16,
      "metadata": {
        "id": "ieOpKMAQTJYh"
      },
      "outputs": [],
      "source": [
        "from operator import itemgetter\n",
        "\n",
        "from langchain_core.prompts import ChatPromptTemplate\n",
        "from langchain_core.runnables import RunnableLambda, RunnablePassthrough\n",
        "from langchain_openai import ChatOpenAI\n",
        "from ragstack_knowledge_graph import extract_entities\n",
        "\n",
        "llm = ChatOpenAI(model_name=\"gpt-4\")\n",
        "\n",
        "\n",
        "def _combine_relations(relations):\n",
        "    return \"\\n\".join(map(repr, relations))\n",
        "\n",
        "\n",
        "ANSWER_PROMPT = (\n",
        "    \"The original question is given below.\"\n",
        "    \"This question has been used to retrieve information from a knowledge graph.\"\n",
        "    \"The matching triples are shown below.\"\n",
        "    \"Use the information in the triples to answer the original question.\\n\\n\"\n",
        "    \"Original Question: {question}\\n\\n\"\n",
        "    \"Knowledge Graph Triples:\\n{context}\\n\\n\"\n",
        "    \"Response:\"\n",
        ")\n",
        "\n",
        "chain = (\n",
        "    {\"question\": RunnablePassthrough()}\n",
        "    | RunnablePassthrough.assign(entities=extract_entities(llm))\n",
        "    | RunnablePassthrough.assign(\n",
        "        triples=itemgetter(\"entities\") | graph_store.as_runnable()\n",
        "    )\n",
        "    | RunnablePassthrough.assign(\n",
        "        context=itemgetter(\"triples\") | RunnableLambda(_combine_relations)\n",
        "    )\n",
        "    | ChatPromptTemplate.from_messages([ANSWER_PROMPT])\n",
        "    | llm\n",
        ")\n"
      ]
    },
    {
      "cell_type": "markdown",
      "metadata": {
        "id": "uEH31NZWTJYh"
      },
      "source": [
        "## Example\n",
        "And finally, we can run the chain end to end to answer a question using the retrieved knowledge."
      ]
    },
    {
      "cell_type": "code",
      "execution_count": 17,
      "metadata": {
        "id": "tx3ppT2-TJYh",
        "outputId": "baae9cf0-9920-47b7-cd42-80ec2fb0c268"
      },
      "outputs": [
        {
          "data": {
            "text/plain": [
              "AIMessage(content='Marie Curie is a physicist, chemist, and professor who has French and Polish nationality. She has won the Nobel Prize and has done research on radioactivity. She worked at the University of Paris.', response_metadata={'token_usage': {'completion_tokens': 42, 'prompt_tokens': 204, 'total_tokens': 246}, 'model_name': 'gpt-4', 'system_fingerprint': None, 'finish_reason': 'stop', 'logprobs': None}, id='run-fdbe8be8-6a08-4da7-86d0-a85e1819388e-0')"
            ]
          },
          "execution_count": 17,
          "metadata": {},
          "output_type": "execute_result"
        }
      ],
      "source": [
        "chain.invoke(\"Who is Marie Curie?\")\n"
      ]
    },
    {
      "cell_type": "markdown",
      "metadata": {},
      "source": [
        "Given a set of keywords, find all news relevant to that keyword.\n",
        "Stretch case: provide me a summary and key people referred\n",
        "Given a set of keywords, what investments are they making this year.\n",
        "Given a set of keywords, what has changed over the quarters\n",
        "E.g 30% more references to cyber security Quarter over Quarter\n",
        "Name all people and what they have said on social media or other public channels\n",
        "Provide any references to hiring, firing, other personnel changes (layoffs, acquisitions etc.) in these keywords areas\n",
        "Name all people related to these keywords who have shown up in various news articles, hiring etc."
      ]
    }
  ],
  "metadata": {
    "colab": {
      "provenance": []
    },
    "kernelspec": {
      "display_name": ".venv",
      "language": "python",
      "name": "python3"
    },
    "language_info": {
      "codemirror_mode": {
        "name": "ipython",
        "version": 3
      },
      "file_extension": ".py",
      "mimetype": "text/x-python",
      "name": "python",
      "nbconvert_exporter": "python",
      "pygments_lexer": "ipython3",
      "version": "3.11.8"
    }
  },
  "nbformat": 4,
  "nbformat_minor": 0
}
